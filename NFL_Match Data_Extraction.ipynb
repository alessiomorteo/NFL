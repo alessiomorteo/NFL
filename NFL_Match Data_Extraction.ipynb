{
 "cells": [
  {
   "cell_type": "markdown",
   "metadata": {},
   "source": [
    "# NFL Historic to Present Matches - Data Extraction"
   ]
  },
  {
   "cell_type": "code",
   "execution_count": 2,
   "metadata": {},
   "outputs": [],
   "source": [
    "import pandas as pd\n",
    "import time\n",
    "import re"
   ]
  },
  {
   "cell_type": "markdown",
   "metadata": {},
   "source": [
    "## Data Collection and Parsing"
   ]
  },
  {
   "cell_type": "markdown",
   "metadata": {},
   "source": [
    "### Prepare table of past scores to use"
   ]
  },
  {
   "cell_type": "code",
   "execution_count": 64,
   "metadata": {},
   "outputs": [],
   "source": [
    "all_games = pd.read_html(\"https://www.pro-football-reference.com/boxscores/game-scores.htm\") # scrape html\n",
    "all_games_df = pd.DataFrame(all_games[0]) # parse into a dataframe"
   ]
  },
  {
   "cell_type": "code",
   "execution_count": 72,
   "metadata": {},
   "outputs": [
    {
     "name": "stdout",
     "output_type": "stream",
     "text": [
      "Total number of unique score combinations: 1069\n"
     ]
    }
   ],
   "source": [
    "print(f\"Total number of unique score combinations: {all_games_df.shape[0]}\")"
   ]
  },
  {
   "cell_type": "code",
   "execution_count": 67,
   "metadata": {},
   "outputs": [],
   "source": [
    "WinScores = all_games_df[\"PtsW\"].tolist() # list of winning score lines\n",
    "LossScores = all_games_df[\"PtsL\"].tolist() # list of losign score lines"
   ]
  },
  {
   "cell_type": "code",
   "execution_count": 69,
   "metadata": {},
   "outputs": [
    {
     "name": "stdout",
     "output_type": "stream",
     "text": [
      "Sample Win Score: [20, 27, 17, 23, 24]\n",
      "Sample Loss Score: [17, 24, 14, 20, 17]\n"
     ]
    }
   ],
   "source": [
    "print(f\"Sample Win Score: {WinScores[:5]}\") # preview\n",
    "print(f\"Sample Loss Score: {LossScores[:5]}\")"
   ]
  },
  {
   "cell_type": "markdown",
   "metadata": {},
   "source": [
    "### Obtain all games for each scoreline"
   ]
  },
  {
   "cell_type": "code",
   "execution_count": null,
   "metadata": {},
   "outputs": [],
   "source": [
    "default_names = [\"Rk\", \"Week\", \"Day\", \"Date\", \"Unnamed: 4\", \"Winner/tie\", \"Unnamed: 6\",\n",
    "        \"Loser/tie\", \"Unnamed: 8\", \"PtsW\", \"PtsL\", \"YdsW\", \"TOW\", \"YdsL\", \"TOL\"]\n",
    "out_df = pd.DataFrame(columns=default_names)"
   ]
  },
  {
   "cell_type": "code",
   "execution_count": null,
   "metadata": {},
   "outputs": [],
   "source": [
    "for W, L in zip(WinScores, LossScores):\n",
    "    temp_df = pd.read_html(f\"https://www.pro-football-reference.com/boxscores/game_scores_find.cgi?pts_win={W}&pts_lose={L}\")[0]\n",
    "    out_df = out_df.append(temp_df) # append each scraped component to the external df\n",
    "    time.sleep(1) # attempt to avoid ip blocking "
   ]
  },
  {
   "cell_type": "code",
   "execution_count": 68,
   "metadata": {},
   "outputs": [],
   "source": [
    "out_df = out_df.rename(columns={\"Unnamed: 6\": \"AtHome\"})\n",
    "out_df.to_csv(\"Data/historic_match_scores.csv\") # write to file"
   ]
  }
 ],
 "metadata": {
  "interpreter": {
   "hash": "fa2fc807709a523810021f9069b038b4545f832460b51722369767b190f008cb"
  },
  "kernelspec": {
   "display_name": "Python 3.7.1 64-bit ('base': conda)",
   "name": "python3"
  },
  "language_info": {
   "codemirror_mode": {
    "name": "ipython",
    "version": 3
   },
   "file_extension": ".py",
   "mimetype": "text/x-python",
   "name": "python",
   "nbconvert_exporter": "python",
   "pygments_lexer": "ipython3",
   "version": "3.7.1"
  },
  "orig_nbformat": 4
 },
 "nbformat": 4,
 "nbformat_minor": 2
}
