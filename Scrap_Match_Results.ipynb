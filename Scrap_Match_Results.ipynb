{
 "cells": [
  {
   "cell_type": "markdown",
   "metadata": {},
   "source": [
    "# NFL Historic to Present Matches"
   ]
  },
  {
   "cell_type": "code",
   "execution_count": 2,
   "metadata": {},
   "outputs": [],
   "source": [
    "import pandas as pd\n",
    "import time\n",
    "import re"
   ]
  },
  {
   "cell_type": "markdown",
   "metadata": {},
   "source": [
    "## Data Collection and Parsing"
   ]
  },
  {
   "cell_type": "markdown",
   "metadata": {},
   "source": [
    "### Prepare table of past scores to use"
   ]
  },
  {
   "cell_type": "code",
   "execution_count": 64,
   "metadata": {},
   "outputs": [],
   "source": [
    "all_games = pd.read_html(\"https://www.pro-football-reference.com/boxscores/game-scores.htm\")"
   ]
  },
  {
   "cell_type": "code",
   "execution_count": 66,
   "metadata": {},
   "outputs": [],
   "source": [
    "all_games_df = pd.DataFrame(all_games[0])"
   ]
  },
  {
   "cell_type": "code",
   "execution_count": 72,
   "metadata": {},
   "outputs": [
    {
     "name": "stdout",
     "output_type": "stream",
     "text": [
      "Total number of unique score combinations: 1069\n"
     ]
    }
   ],
   "source": [
    "print(f\"Total number of unique score combinations: {all_games_df.shape[0]}\")"
   ]
  },
  {
   "cell_type": "code",
   "execution_count": 67,
   "metadata": {},
   "outputs": [],
   "source": [
    "WinScores = all_games_df[\"PtsW\"].tolist()\n",
    "LossScores = all_games_df[\"PtsL\"].tolist()"
   ]
  },
  {
   "cell_type": "code",
   "execution_count": 69,
   "metadata": {},
   "outputs": [
    {
     "name": "stdout",
     "output_type": "stream",
     "text": [
      "Sample Win Score: [20, 27, 17, 23, 24]\n",
      "Sample Loss Score: [17, 24, 14, 20, 17]\n"
     ]
    }
   ],
   "source": [
    "print(f\"Sample Win Score: {WinScores[:5]}\")\n",
    "print(f\"Sample Loss Score: {LossScores[:5]}\")\n"
   ]
  },
  {
   "cell_type": "markdown",
   "metadata": {},
   "source": [
    "### Obtain all games for each scoreline"
   ]
  },
  {
   "cell_type": "code",
   "execution_count": null,
   "metadata": {},
   "outputs": [],
   "source": [
    "cols = ['Rk', 'Week', 'Day', 'Date', 'Unnamed: 4', 'Winner/tie', 'Unnamed: 6', 'Loser/tie', 'Unnamed: 8',\n",
    "        'PtsW', 'PtsL', 'YdsW', 'TOW', 'YdsL', 'TOL']\n",
    "out_df = pd.DataFrame(columns=cols)\n",
    "for W, L in zip(WinScores, LossScores):\n",
    "    temp_df = pd.read_html(f\"https://www.pro-football-reference.com/boxscores/game_scores_find.cgi?pts_win={W}&pts_lose={L}\")[0]\n",
    "    out_df = out_df.append(temp_df)\n",
    "    time.sleep(1)"
   ]
  },
  {
   "cell_type": "code",
   "execution_count": 68,
   "metadata": {},
   "outputs": [],
   "source": [
    "out_df = out_df.rename(columns={\"Unnamed: 6\": \"AtHome\"})\n",
    "out_df.to_csv(\"historic_match_scores.csv\")"
   ]
  },
  {
   "cell_type": "code",
   "execution_count": null,
   "metadata": {},
   "outputs": [],
   "source": []
  },
  {
   "cell_type": "code",
   "execution_count": 9,
   "metadata": {},
   "outputs": [],
   "source": [
    "out_df = pd.read_csv(\"historic_match_scores.csv\")\n",
    "out_df[\"Date\"] = out_df[\"Date\"].astype(\"datetime64\") \n",
    "out_df[\"Week\"] = [row.lstrip().rstrip() for row in out_df[\"Week\"].astype(\"str\")]"
   ]
  },
  {
   "cell_type": "code",
   "execution_count": 50,
   "metadata": {},
   "outputs": [],
   "source": [
    "# PtsW - Points scored by the winning team\n",
    "# PtsL - Points score by the losing team\n",
    "# YdsW - Yards gained by the winning team\n",
    "# YdsL - Yards gained by the losing team\n",
    "# TOW - Turnovers by winning Team\n",
    "# TOL - Turnovers by losing Team"
   ]
  },
  {
   "cell_type": "code",
   "execution_count": 4,
   "metadata": {},
   "outputs": [],
   "source": [
    "def get_home_team(Winner, Loser, AtHome):\n",
    "    if AtHome == \"@\":\n",
    "        HomeTeam = Loser\n",
    "    else:\n",
    "        HomeTeam = Winner\n",
    "    \n",
    "    return HomeTeam"
   ]
  },
  {
   "cell_type": "code",
   "execution_count": 10,
   "metadata": {},
   "outputs": [],
   "source": [
    "out_df[\"HomeTeam\"] = out_df.apply(lambda row : get_home_team(row[\"Winner/tie\"],\n",
    "                                  row[\"Loser/tie\"], row[\"AtHome\"]), axis = 1)"
   ]
  },
  {
   "cell_type": "code",
   "execution_count": 6,
   "metadata": {},
   "outputs": [],
   "source": [
    "def get_season(DateField):\n",
    "    \"\"\"This function parses the given match date to process and the return the year of the season being played.\n",
    "\n",
    "    Args:\n",
    "        DateField (datetime): The column/field that contains the date that the match was played upon\n",
    "\n",
    "    Returns:\n",
    "        Int: The year of the season being played\n",
    "    \"\"\"\n",
    "    if (DateField.month >= 1) & (DateField.month <= 3):\n",
    "        SeasonYear = DateField.year -1\n",
    "    else:\n",
    "        SeasonYear = DateField.year\n",
    "    return SeasonYear"
   ]
  },
  {
   "cell_type": "code",
   "execution_count": 58,
   "metadata": {},
   "outputs": [],
   "source": [
    "out_df = out_df.drop([\"Unnamed: 4\", \"Unnamed: 8\"], axis=1, inplace=True)"
   ]
  },
  {
   "cell_type": "code",
   "execution_count": 11,
   "metadata": {},
   "outputs": [],
   "source": [
    "out_df[\"Season\"] = out_df.apply(lambda row : get_season(row[\"Date\"]), axis = 1)"
   ]
  },
  {
   "cell_type": "markdown",
   "metadata": {},
   "source": [
    "### Wild Card\n",
    "* Added in 1978 (March), being the 1977 season"
   ]
  },
  {
   "cell_type": "markdown",
   "metadata": {},
   "source": [
    "## 2020 Season"
   ]
  },
  {
   "cell_type": "code",
   "execution_count": 8,
   "metadata": {},
   "outputs": [
    {
     "name": "stderr",
     "output_type": "stream",
     "text": [
      "/Users/alessiomorteo/anaconda3/lib/python3.7/site-packages/ipykernel_launcher.py:2: SettingWithCopyWarning: \n",
      "A value is trying to be set on a copy of a slice from a DataFrame.\n",
      "Try using .loc[row_indexer,col_indexer] = value instead\n",
      "\n",
      "See the caveats in the documentation: http://pandas.pydata.org/pandas-docs/stable/user_guide/indexing.html#returning-a-view-versus-a-copy\n",
      "  \n"
     ]
    }
   ],
   "source": [
    "df_2020 = out_df[out_df[\"Season\"] == 2020]\n",
    "df_2020[\"Week\"] = [row.lstrip().rstrip() for row in df_2020[\"Week\"].astype(\"str\")]"
   ]
  },
  {
   "cell_type": "code",
   "execution_count": 98,
   "metadata": {},
   "outputs": [
    {
     "name": "stdout",
     "output_type": "stream",
     "text": [
      "Number of games played: 269\n"
     ]
    }
   ],
   "source": [
    "print(f\"Number of games played: {len(df_2020)}\")"
   ]
  },
  {
   "cell_type": "code",
   "execution_count": 62,
   "metadata": {},
   "outputs": [],
   "source": [
    "wk_occurence_2020 = df_2020.groupby([\"Week\"]).size().reset_index().rename(columns={0:'count'}).sort_values(by=\"count\", ascending=False)"
   ]
  },
  {
   "cell_type": "markdown",
   "metadata": {},
   "source": [
    "### Week Types"
   ]
  },
  {
   "cell_type": "code",
   "execution_count": 12,
   "metadata": {},
   "outputs": [],
   "source": [
    "unique_weeks = {}\n",
    "for season in out_df[\"Season\"].unique():\n",
    "    unique_weeks[season] = {}\n",
    "    temp_df = out_df[out_df[\"Season\"] == season]\n",
    "    weeks_found = temp_df[\"Week\"].unique().tolist()\n",
    "    unique_weeks[season] = [str(i) for i in weeks_found]"
   ]
  },
  {
   "cell_type": "code",
   "execution_count": 13,
   "metadata": {},
   "outputs": [],
   "source": [
    "all_time_unique = sorted({x for v in unique_weeks.values() for x in v})"
   ]
  },
  {
   "cell_type": "code",
   "execution_count": 14,
   "metadata": {},
   "outputs": [],
   "source": [
    "out_df[\"Week\"] = out_df[\"Week\"].replace(\"Conf. Champ\", \"Champ\")"
   ]
  },
  {
   "cell_type": "markdown",
   "metadata": {},
   "source": [
    "### Max Month"
   ]
  },
  {
   "cell_type": "code",
   "execution_count": 15,
   "metadata": {},
   "outputs": [],
   "source": [
    "max_week = {}\n",
    "for season in out_df[\"Season\"].unique():\n",
    "    max_week[season] = {}\n",
    "    temp_df = out_df[\"Week\"][out_df[\"Season\"] == season].astype(\"str\")\n",
    "    week_values = [int(i) for i in temp_df if not re.search('[a-zA-Z]', i)]\n",
    "    #week_values = [int(i) for i in week_values]\n",
    "    max_week[season] = max(week_values)"
   ]
  },
  {
   "cell_type": "markdown",
   "metadata": {},
   "source": [
    "### Replacement Keys"
   ]
  },
  {
   "cell_type": "code",
   "execution_count": 22,
   "metadata": {},
   "outputs": [],
   "source": [
    "week_correction_dict = {}\n",
    "for season in max_week.keys():\n",
    "    week_correction_dict[season] = {}\n",
    "    temp_unique_weeks = unique_weeks[season]\n",
    "    temp_max_weeks = max_week[season]\n",
    "    \n",
    "    if (season < 1966):\n",
    "        week_correction_dict[season][\"Division\"] =temp_max_weeks + 1\n",
    "        week_correction_dict[season][\"Champ\"] = temp_max_weeks + 2\n",
    "    elif (season >= 1966) & (season <= 1978):\n",
    "        week_correction_dict[season][\"Division\"] =temp_max_weeks + 1\n",
    "        week_correction_dict[season][\"Champ\"] = temp_max_weeks + 2\n",
    "        week_correction_dict[season][\"Super Bowl\"] = temp_max_weeks + 3\n",
    "    else:\n",
    "        week_correction_dict[season][\"Wild Card\"] = temp_max_weeks + 1\n",
    "        week_correction_dict[season][\"Division\"] =temp_max_weeks + 2\n",
    "        week_correction_dict[season][\"Champ\"] = temp_max_weeks + 3\n",
    "        week_correction_dict[season][\"Super Bowl\"] = temp_max_weeks + 4"
   ]
  },
  {
   "cell_type": "code",
   "execution_count": 47,
   "metadata": {},
   "outputs": [],
   "source": [
    "def do_complete_week_col(season_value, week_value):\n",
    "    for old, new in week_correction_dict[season_value].items():\n",
    "        new_week = week_value.replace(old, str(new))\n",
    "    return new_week"
   ]
  },
  {
   "cell_type": "code",
   "execution_count": 48,
   "metadata": {},
   "outputs": [],
   "source": [
    "out_df[\"ModifiedWeek\"] = out_df.apply(lambda row : do_complete_week_col(row[\"Season\"], row[\"Week\"]), axis=1)"
   ]
  },
  {
   "cell_type": "code",
   "execution_count": 60,
   "metadata": {},
   "outputs": [],
   "source": [
    "out_df"
   ]
  },
  {
   "cell_type": "markdown",
   "metadata": {},
   "source": [
    "## Super Bowl History"
   ]
  },
  {
   "cell_type": "code",
   "execution_count": 61,
   "metadata": {},
   "outputs": [
    {
     "ename": "TypeError",
     "evalue": "'NoneType' object is not subscriptable",
     "output_type": "error",
     "traceback": [
      "\u001b[0;31m---------------------------------------------------------------------------\u001b[0m",
      "\u001b[0;31mTypeError\u001b[0m                                 Traceback (most recent call last)",
      "\u001b[0;32m<ipython-input-61-2b4e79827df2>\u001b[0m in \u001b[0;36m<module>\u001b[0;34m\u001b[0m\n\u001b[0;32m----> 1\u001b[0;31m \u001b[0msb_games\u001b[0m \u001b[0;34m=\u001b[0m \u001b[0mout_df\u001b[0m\u001b[0;34m[\u001b[0m\u001b[0mout_df\u001b[0m\u001b[0;34m[\u001b[0m\u001b[0;34m\"Week\"\u001b[0m\u001b[0;34m]\u001b[0m \u001b[0;34m==\u001b[0m \u001b[0;34m\"Super Bowl\"\u001b[0m\u001b[0;34m]\u001b[0m\u001b[0;34m\u001b[0m\u001b[0;34m\u001b[0m\u001b[0m\n\u001b[0m",
      "\u001b[0;31mTypeError\u001b[0m: 'NoneType' object is not subscriptable"
     ]
    }
   ],
   "source": [
    "sb_games = out_df[out_df[\"Week\"] == \"Super Bowl\"]"
   ]
  }
 ],
 "metadata": {
  "interpreter": {
   "hash": "fa2fc807709a523810021f9069b038b4545f832460b51722369767b190f008cb"
  },
  "kernelspec": {
   "display_name": "Python 3.7.1 64-bit ('base': conda)",
   "name": "python3"
  },
  "language_info": {
   "codemirror_mode": {
    "name": "ipython",
    "version": 3
   },
   "file_extension": ".py",
   "mimetype": "text/x-python",
   "name": "python",
   "nbconvert_exporter": "python",
   "pygments_lexer": "ipython3",
   "version": "3.7.1"
  },
  "orig_nbformat": 4
 },
 "nbformat": 4,
 "nbformat_minor": 2
}
