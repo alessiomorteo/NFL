{
 "cells": [
  {
   "cell_type": "markdown",
   "metadata": {},
   "source": [
    "# NFL Historic to Present Matches - Processing"
   ]
  },
  {
   "cell_type": "code",
   "execution_count": 1,
   "metadata": {},
   "outputs": [],
   "source": [
    "import pandas as pd\n",
    "import numpy as np\n",
    "import re"
   ]
  },
  {
   "cell_type": "code",
   "execution_count": 2,
   "metadata": {},
   "outputs": [],
   "source": [
    "out_df = pd.read_csv(\"Data/historic_match_scores.csv\")\n",
    "out_df[\"Date\"] = out_df[\"Date\"].astype(\"datetime64\") \n",
    "out_df[\"Week\"] = [row.lstrip().rstrip() for row in out_df[\"Week\"].astype(\"str\")]\n",
    "out_df = out_df.drop([\"Unnamed: 0\", \"Unnamed: 4\", \"Unnamed: 8\"], axis=1)"
   ]
  },
  {
   "cell_type": "markdown",
   "metadata": {},
   "source": [
    "* PtsW - Points scored by the winning team\n",
    "* PtsL - Points score by the losing team\n",
    "* YdsW - Yards gained by the winning team\n",
    "* YdsL - Yards gained by the losing team\n",
    "* TOW - Turnovers by winning Team\n",
    "* TOL - Turnovers by losing Team"
   ]
  },
  {
   "cell_type": "markdown",
   "metadata": {},
   "source": [
    "* Wild Card - Added in 1978 (March), being the 1977 season"
   ]
  },
  {
   "cell_type": "code",
   "execution_count": 3,
   "metadata": {},
   "outputs": [],
   "source": [
    "def get_home_team(Winner, Loser, AtHome):\n",
    "    if AtHome == \"@\":\n",
    "        HomeTeam = Loser\n",
    "    else:\n",
    "        HomeTeam = Winner\n",
    "    \n",
    "    return HomeTeam"
   ]
  },
  {
   "cell_type": "code",
   "execution_count": 4,
   "metadata": {},
   "outputs": [],
   "source": [
    "out_df[\"HomeTeam\"] = out_df.apply(lambda row : get_home_team(row[\"Winner/tie\"],\n",
    "                                  row[\"Loser/tie\"], row[\"AtHome\"]), axis = 1)"
   ]
  },
  {
   "cell_type": "code",
   "execution_count": 5,
   "metadata": {},
   "outputs": [],
   "source": [
    "def get_season(DateField):\n",
    "    \"\"\"This function parses the given match date to process and the return the year of the season being played.\n",
    "\n",
    "    Args:\n",
    "        DateField (datetime): The column/field that contains the date that the match was played upon\n",
    "\n",
    "    Returns:\n",
    "        Int: The year of the season being played\n",
    "    \"\"\"\n",
    "    if (DateField.month >= 1) & (DateField.month <= 3):\n",
    "        SeasonYear = DateField.year -1\n",
    "    else:\n",
    "        SeasonYear = DateField.year\n",
    "    return SeasonYear"
   ]
  },
  {
   "cell_type": "code",
   "execution_count": 6,
   "metadata": {},
   "outputs": [],
   "source": [
    "out_df[\"Season\"] = out_df.apply(lambda row : get_season(row[\"Date\"]), axis = 1)"
   ]
  },
  {
   "cell_type": "code",
   "execution_count": 7,
   "metadata": {},
   "outputs": [],
   "source": [
    "out_df[\"Week\"] = out_df[\"Week\"].replace(\"Conf. Champ\", \"Championship Game\")"
   ]
  },
  {
   "cell_type": "code",
   "execution_count": 8,
   "metadata": {},
   "outputs": [],
   "source": [
    "out_df[\"PtsMargin\"] = out_df[\"PtsW\"] - out_df[\"PtsL\"]\n",
    "out_df[\"TieGame\"] = np.where(out_df[\"PtsMargin\"] == 0, 1, 0)"
   ]
  },
  {
   "cell_type": "markdown",
   "metadata": {},
   "source": [
    "### Week Types"
   ]
  },
  {
   "cell_type": "code",
   "execution_count": 9,
   "metadata": {},
   "outputs": [],
   "source": [
    "unique_weeks = {}\n",
    "for season in out_df[\"Season\"].unique():\n",
    "    unique_weeks[season] = {}\n",
    "    temp_df = out_df[out_df[\"Season\"] == season]\n",
    "    weeks_found = temp_df[\"Week\"].unique().tolist()\n",
    "    unique_weeks[season] = [str(i) for i in weeks_found]"
   ]
  },
  {
   "cell_type": "code",
   "execution_count": 10,
   "metadata": {},
   "outputs": [],
   "source": [
    "all_time_unique = sorted({x for v in unique_weeks.values() for x in v})"
   ]
  },
  {
   "cell_type": "markdown",
   "metadata": {},
   "source": [
    "### Max Week"
   ]
  },
  {
   "cell_type": "markdown",
   "metadata": {},
   "source": [
    "* We want to obtain the highest week number present in each season\n",
    "* Following this we can convert the post-season games to a week number, taking account for the fact that the number of weeks varies by season"
   ]
  },
  {
   "cell_type": "code",
   "execution_count": 11,
   "metadata": {},
   "outputs": [],
   "source": [
    "max_week = {}\n",
    "for season in out_df[\"Season\"].unique():\n",
    "    max_week[season] = {}\n",
    "    temp_df = out_df[\"Week\"][out_df[\"Season\"] == season].astype(\"str\")\n",
    "    week_values = [int(i) for i in temp_df if not re.search('[a-zA-Z]', i)]\n",
    "    #week_values = [int(i) for i in week_values]\n",
    "    max_week[season] = max(week_values)"
   ]
  },
  {
   "cell_type": "markdown",
   "metadata": {},
   "source": [
    "### Replacement Keys"
   ]
  },
  {
   "cell_type": "markdown",
   "metadata": {},
   "source": [
    "* System by which we can replace the post-season week names with a numeric value, following on from the final regular game week for the season in question"
   ]
  },
  {
   "cell_type": "code",
   "execution_count": 12,
   "metadata": {},
   "outputs": [],
   "source": [
    "week_correction_dict = {}\n",
    "for season in max_week.keys():\n",
    "    week_correction_dict[season] = {}\n",
    "    temp_unique_weeks = unique_weeks[season] # how many numeric weeks (i.e. reg season)\n",
    "    temp_max_weeks = max_week[season] # max week for that season\n",
    "    \n",
    "    if (season < 1966):\n",
    "        week_correction_dict[season][\"Division\"] =temp_max_weeks + 1\n",
    "        week_correction_dict[season][\"Championship Game\"] = temp_max_weeks + 2\n",
    "    elif (season >= 1966) & (season <= 1978):\n",
    "        week_correction_dict[season][\"Division\"] =temp_max_weeks + 1\n",
    "        week_correction_dict[season][\"Championship Game\"] = temp_max_weeks + 2\n",
    "        week_correction_dict[season][\"Super Bowl\"] = temp_max_weeks + 3\n",
    "    else:\n",
    "        week_correction_dict[season][\"Wild Card\"] = temp_max_weeks + 1\n",
    "        week_correction_dict[season][\"Division\"] =temp_max_weeks + 2\n",
    "        week_correction_dict[season][\"Championship Game\"] = temp_max_weeks + 3\n",
    "        week_correction_dict[season][\"Super Bowl\"] = temp_max_weeks + 4"
   ]
  },
  {
   "cell_type": "code",
   "execution_count": 13,
   "metadata": {},
   "outputs": [],
   "source": [
    "def get_modified_week_col(season_value, week_value):\n",
    "    for old, new in week_correction_dict[season_value].items():\n",
    "        new_week = week_value.replace(old, str(new))\n",
    "    return new_week"
   ]
  },
  {
   "cell_type": "code",
   "execution_count": 14,
   "metadata": {},
   "outputs": [],
   "source": [
    "out_df[\"ModifiedWeek\"] = out_df.apply(lambda row : get_modified_week_col(row[\"Season\"], row[\"Week\"]), axis=1)"
   ]
  },
  {
   "cell_type": "code",
   "execution_count": 15,
   "metadata": {},
   "outputs": [
    {
     "data": {
      "text/html": [
       "<div>\n",
       "<style scoped>\n",
       "    .dataframe tbody tr th:only-of-type {\n",
       "        vertical-align: middle;\n",
       "    }\n",
       "\n",
       "    .dataframe tbody tr th {\n",
       "        vertical-align: top;\n",
       "    }\n",
       "\n",
       "    .dataframe thead th {\n",
       "        text-align: right;\n",
       "    }\n",
       "</style>\n",
       "<table border=\"1\" class=\"dataframe\">\n",
       "  <thead>\n",
       "    <tr style=\"text-align: right;\">\n",
       "      <th></th>\n",
       "      <th>Rk</th>\n",
       "      <th>Week</th>\n",
       "      <th>Day</th>\n",
       "      <th>Date</th>\n",
       "      <th>Winner/tie</th>\n",
       "      <th>AtHome</th>\n",
       "      <th>Loser/tie</th>\n",
       "      <th>PtsW</th>\n",
       "      <th>PtsL</th>\n",
       "      <th>YdsW</th>\n",
       "      <th>TOW</th>\n",
       "      <th>YdsL</th>\n",
       "      <th>TOL</th>\n",
       "      <th>HomeTeam</th>\n",
       "      <th>Season</th>\n",
       "      <th>PtsMargin</th>\n",
       "      <th>TieGame</th>\n",
       "      <th>ModifiedWeek</th>\n",
       "    </tr>\n",
       "  </thead>\n",
       "  <tbody>\n",
       "    <tr>\n",
       "      <td>0</td>\n",
       "      <td>1</td>\n",
       "      <td>5</td>\n",
       "      <td>Sun</td>\n",
       "      <td>1944-10-15</td>\n",
       "      <td>Cleveland Rams</td>\n",
       "      <td>@</td>\n",
       "      <td>Detroit Lions</td>\n",
       "      <td>20</td>\n",
       "      <td>17</td>\n",
       "      <td>177.0</td>\n",
       "      <td>3.0</td>\n",
       "      <td>237.0</td>\n",
       "      <td>6.0</td>\n",
       "      <td>Detroit Lions</td>\n",
       "      <td>1944</td>\n",
       "      <td>3</td>\n",
       "      <td>0</td>\n",
       "      <td>5</td>\n",
       "    </tr>\n",
       "    <tr>\n",
       "      <td>1</td>\n",
       "      <td>2</td>\n",
       "      <td>8</td>\n",
       "      <td>Sun</td>\n",
       "      <td>1947-11-09</td>\n",
       "      <td>Chicago Bears</td>\n",
       "      <td>NaN</td>\n",
       "      <td>Green Bay Packers</td>\n",
       "      <td>20</td>\n",
       "      <td>17</td>\n",
       "      <td>320.0</td>\n",
       "      <td>9.0</td>\n",
       "      <td>299.0</td>\n",
       "      <td>4.0</td>\n",
       "      <td>Chicago Bears</td>\n",
       "      <td>1947</td>\n",
       "      <td>3</td>\n",
       "      <td>0</td>\n",
       "      <td>8</td>\n",
       "    </tr>\n",
       "    <tr>\n",
       "      <td>2</td>\n",
       "      <td>3</td>\n",
       "      <td>15</td>\n",
       "      <td>Sun</td>\n",
       "      <td>1947-12-07</td>\n",
       "      <td>New York Yankees</td>\n",
       "      <td>@</td>\n",
       "      <td>Brooklyn Dodgers</td>\n",
       "      <td>20</td>\n",
       "      <td>17</td>\n",
       "      <td>358.0</td>\n",
       "      <td>3.0</td>\n",
       "      <td>186.0</td>\n",
       "      <td>1.0</td>\n",
       "      <td>Brooklyn Dodgers</td>\n",
       "      <td>1947</td>\n",
       "      <td>3</td>\n",
       "      <td>0</td>\n",
       "      <td>15</td>\n",
       "    </tr>\n",
       "    <tr>\n",
       "      <td>3</td>\n",
       "      <td>4</td>\n",
       "      <td>7</td>\n",
       "      <td>Sun</td>\n",
       "      <td>1951-11-11</td>\n",
       "      <td>Cleveland Browns</td>\n",
       "      <td>NaN</td>\n",
       "      <td>Philadelphia Eagles</td>\n",
       "      <td>20</td>\n",
       "      <td>17</td>\n",
       "      <td>204.0</td>\n",
       "      <td>3.0</td>\n",
       "      <td>310.0</td>\n",
       "      <td>4.0</td>\n",
       "      <td>Cleveland Browns</td>\n",
       "      <td>1951</td>\n",
       "      <td>3</td>\n",
       "      <td>0</td>\n",
       "      <td>7</td>\n",
       "    </tr>\n",
       "    <tr>\n",
       "      <td>4</td>\n",
       "      <td>5</td>\n",
       "      <td>11</td>\n",
       "      <td>Sun</td>\n",
       "      <td>1951-12-09</td>\n",
       "      <td>Washington Redskins</td>\n",
       "      <td>@</td>\n",
       "      <td>Chicago Cardinals</td>\n",
       "      <td>20</td>\n",
       "      <td>17</td>\n",
       "      <td>334.0</td>\n",
       "      <td>2.0</td>\n",
       "      <td>334.0</td>\n",
       "      <td>2.0</td>\n",
       "      <td>Chicago Cardinals</td>\n",
       "      <td>1951</td>\n",
       "      <td>3</td>\n",
       "      <td>0</td>\n",
       "      <td>11</td>\n",
       "    </tr>\n",
       "  </tbody>\n",
       "</table>\n",
       "</div>"
      ],
      "text/plain": [
       "   Rk Week  Day       Date           Winner/tie AtHome            Loser/tie  \\\n",
       "0   1    5  Sun 1944-10-15       Cleveland Rams      @        Detroit Lions   \n",
       "1   2    8  Sun 1947-11-09        Chicago Bears    NaN    Green Bay Packers   \n",
       "2   3   15  Sun 1947-12-07     New York Yankees      @     Brooklyn Dodgers   \n",
       "3   4    7  Sun 1951-11-11     Cleveland Browns    NaN  Philadelphia Eagles   \n",
       "4   5   11  Sun 1951-12-09  Washington Redskins      @    Chicago Cardinals   \n",
       "\n",
       "   PtsW  PtsL   YdsW  TOW   YdsL  TOL           HomeTeam  Season  PtsMargin  \\\n",
       "0    20    17  177.0  3.0  237.0  6.0      Detroit Lions    1944          3   \n",
       "1    20    17  320.0  9.0  299.0  4.0      Chicago Bears    1947          3   \n",
       "2    20    17  358.0  3.0  186.0  1.0   Brooklyn Dodgers    1947          3   \n",
       "3    20    17  204.0  3.0  310.0  4.0   Cleveland Browns    1951          3   \n",
       "4    20    17  334.0  2.0  334.0  2.0  Chicago Cardinals    1951          3   \n",
       "\n",
       "   TieGame ModifiedWeek  \n",
       "0        0            5  \n",
       "1        0            8  \n",
       "2        0           15  \n",
       "3        0            7  \n",
       "4        0           11  "
      ]
     },
     "execution_count": 15,
     "metadata": {},
     "output_type": "execute_result"
    }
   ],
   "source": [
    "out_df.head()"
   ]
  },
  {
   "cell_type": "code",
   "execution_count": 16,
   "metadata": {},
   "outputs": [
    {
     "name": "stdout",
     "output_type": "stream",
     "text": [
      "Number of ties in NFL History: 316 (1.865%)\n"
     ]
    }
   ],
   "source": [
    "nfl_tie_count = len(out_df[out_df['TieGame'] == 1])\n",
    "nfl_tie_percentage = nfl_tie_count / len(out_df) * 100\n",
    "print(f\"Number of ties in NFL History: {nfl_tie_count} ({nfl_tie_percentage:.3f}%)\")"
   ]
  },
  {
   "cell_type": "markdown",
   "metadata": {},
   "source": [
    "## Output the Processed File to CSV"
   ]
  },
  {
   "cell_type": "code",
   "execution_count": 17,
   "metadata": {},
   "outputs": [],
   "source": [
    "out_df.to_csv(\"Data/processed_game_history.csv\")"
   ]
  }
 ],
 "metadata": {
  "interpreter": {
   "hash": "fa2fc807709a523810021f9069b038b4545f832460b51722369767b190f008cb"
  },
  "kernelspec": {
   "display_name": "Python 3.7.1 64-bit ('base': conda)",
   "name": "python3"
  },
  "language_info": {
   "codemirror_mode": {
    "name": "ipython",
    "version": 3
   },
   "file_extension": ".py",
   "mimetype": "text/x-python",
   "name": "python",
   "nbconvert_exporter": "python",
   "pygments_lexer": "ipython3",
   "version": "3.7.1"
  },
  "orig_nbformat": 4
 },
 "nbformat": 4,
 "nbformat_minor": 2
}
