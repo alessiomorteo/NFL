{
 "cells": [
  {
   "cell_type": "markdown",
   "metadata": {},
   "source": [
    "# NFL Historic to Present Matches - Processing"
   ]
  },
  {
   "cell_type": "code",
   "execution_count": 99,
   "metadata": {},
   "outputs": [],
   "source": [
    "import pandas as pd\n",
    "import numpy as np\n",
    "import re"
   ]
  },
  {
   "cell_type": "code",
   "execution_count": 100,
   "metadata": {},
   "outputs": [],
   "source": [
    "out_df = pd.read_csv(\"Data/historic_match_scores.csv\")\n",
    "out_df[\"Date\"] = out_df[\"Date\"].astype(\"datetime64\") \n",
    "out_df[\"Week\"] = [row.lstrip().rstrip() for row in out_df[\"Week\"].astype(\"str\")]\n",
    "out_df = out_df.drop([\"Unnamed: 0\", \"Unnamed: 4\", \"Unnamed: 8\"], axis=1)"
   ]
  },
  {
   "cell_type": "markdown",
   "metadata": {},
   "source": [
    "* PtsW - Points scored by the winning team\n",
    "* PtsL - Points score by the losing team\n",
    "* YdsW - Yards gained by the winning team\n",
    "* YdsL - Yards gained by the losing team\n",
    "* TOW - Turnovers by winning Team\n",
    "* TOL - Turnovers by losing Team"
   ]
  },
  {
   "cell_type": "markdown",
   "metadata": {},
   "source": [
    "* Wild Card - Added in 1978 (March), being the 1977 season"
   ]
  },
  {
   "cell_type": "code",
   "execution_count": 101,
   "metadata": {},
   "outputs": [],
   "source": [
    "def get_home_team(Winner, Loser, AtHome):\n",
    "    if AtHome == \"@\":\n",
    "        HomeTeam = Loser\n",
    "    else:\n",
    "        HomeTeam = Winner\n",
    "    \n",
    "    return HomeTeam"
   ]
  },
  {
   "cell_type": "code",
   "execution_count": 102,
   "metadata": {},
   "outputs": [],
   "source": [
    "out_df[\"HomeTeam\"] = out_df.apply(lambda row : get_home_team(row[\"Winner/tie\"],\n",
    "                                  row[\"Loser/tie\"], row[\"AtHome\"]), axis = 1)"
   ]
  },
  {
   "cell_type": "code",
   "execution_count": 103,
   "metadata": {},
   "outputs": [],
   "source": [
    "def get_season(DateField):\n",
    "    \"\"\"This function parses the given match date to process and the return the year of the season being played.\n",
    "\n",
    "    Args:\n",
    "        DateField (datetime): The column/field that contains the date that the match was played upon\n",
    "\n",
    "    Returns:\n",
    "        Int: The year of the season being played\n",
    "    \"\"\"\n",
    "    if (DateField.month >= 1) & (DateField.month <= 3):\n",
    "        SeasonYear = DateField.year -1\n",
    "    else:\n",
    "        SeasonYear = DateField.year\n",
    "    return SeasonYear"
   ]
  },
  {
   "cell_type": "code",
   "execution_count": 104,
   "metadata": {},
   "outputs": [],
   "source": [
    "out_df[\"Season\"] = out_df.apply(lambda row : get_season(row[\"Date\"]), axis = 1)"
   ]
  },
  {
   "cell_type": "code",
   "execution_count": 105,
   "metadata": {},
   "outputs": [],
   "source": [
    "out_df[\"Week\"] = out_df[\"Week\"].replace(\"Champ\", \"Championship Game\")\n",
    "out_df[\"Week\"] = out_df[\"Week\"].replace(\"Conf. Champ\", \"Championship Game\")"
   ]
  },
  {
   "cell_type": "code",
   "execution_count": 106,
   "metadata": {},
   "outputs": [],
   "source": [
    "out_df[\"PtsMargin\"] = out_df[\"PtsW\"] - out_df[\"PtsL\"]\n",
    "out_df[\"TieGame\"] = np.where(out_df[\"PtsMargin\"] == 0, 1, 0)"
   ]
  },
  {
   "cell_type": "markdown",
   "metadata": {},
   "source": [
    "### Week Types"
   ]
  },
  {
   "cell_type": "code",
   "execution_count": 107,
   "metadata": {},
   "outputs": [],
   "source": [
    "unique_weeks = {}\n",
    "for season in out_df[\"Season\"].unique():\n",
    "    unique_weeks[season] = {}\n",
    "    temp_df = out_df[out_df[\"Season\"] == season]\n",
    "    weeks_found = temp_df[\"Week\"].unique().tolist()\n",
    "    unique_weeks[season] = [str(i) for i in weeks_found]"
   ]
  },
  {
   "cell_type": "code",
   "execution_count": 108,
   "metadata": {},
   "outputs": [],
   "source": [
    "all_time_unique = sorted({x for v in unique_weeks.values() for x in v})"
   ]
  },
  {
   "cell_type": "markdown",
   "metadata": {},
   "source": [
    "### Max Week"
   ]
  },
  {
   "cell_type": "markdown",
   "metadata": {},
   "source": [
    "* We want to obtain the highest week number present in each season\n",
    "* Following this we can convert the post-season games to a week number, taking account for the fact that the number of weeks varies by season"
   ]
  },
  {
   "cell_type": "code",
   "execution_count": 109,
   "metadata": {},
   "outputs": [],
   "source": [
    "max_week = {}\n",
    "for season in out_df[\"Season\"].unique():\n",
    "    max_week[season] = {}\n",
    "    temp_df = out_df[\"Week\"][out_df[\"Season\"] == season].astype(\"str\")\n",
    "    week_values = [int(i) for i in temp_df if not re.search('[a-zA-Z]', i)]\n",
    "    #week_values = [int(i) for i in week_values]\n",
    "    max_week[season] = max(week_values)"
   ]
  },
  {
   "cell_type": "markdown",
   "metadata": {},
   "source": [
    "### Replacement Keys"
   ]
  },
  {
   "cell_type": "markdown",
   "metadata": {},
   "source": [
    "* System by which we can replace the post-season week names with a numeric value, following on from the final regular game week for the season in question"
   ]
  },
  {
   "cell_type": "code",
   "execution_count": 110,
   "metadata": {},
   "outputs": [],
   "source": [
    "week_correction_dict = {}\n",
    "for season in max_week.keys():\n",
    "    week_correction_dict[season] = {}\n",
    "    temp_unique_weeks = unique_weeks[season] # how many numeric weeks (i.e. reg season)\n",
    "    temp_max_weeks = max_week[season] # max week for that season\n",
    "    \n",
    "    if season < 1966:\n",
    "        week_correction_dict[season][\"Division\"] = temp_max_weeks + 1\n",
    "        week_correction_dict[season][\"Championship Game\"] = temp_max_weeks + 2\n",
    "    elif (season >= 1966) & (season < 1978):\n",
    "        week_correction_dict[season][\"Division\"] = temp_max_weeks + 1\n",
    "        week_correction_dict[season][\"Championship Game\"] = temp_max_weeks + 2\n",
    "        week_correction_dict[season][\"Super Bowl\"] = temp_max_weeks + 3\n",
    "    else:\n",
    "        week_correction_dict[season][\"Wild Card\"] = temp_max_weeks + 1\n",
    "        week_correction_dict[season][\"Division\"] =temp_max_weeks + 2\n",
    "        week_correction_dict[season][\"Championship Game\"] = temp_max_weeks + 3\n",
    "        week_correction_dict[season][\"Super Bowl\"] = temp_max_weeks + 4"
   ]
  },
  {
   "cell_type": "code",
   "execution_count": 111,
   "metadata": {},
   "outputs": [],
   "source": [
    "def get_modified_week_col(season_value, week_value):\n",
    "    for old, new in week_correction_dict[season_value].items():\n",
    "        #new_week = week_value.replace(old, str(new))\n",
    "        if week_value == old:\n",
    "            new_week = str(new)\n",
    "            break\n",
    "        else:\n",
    "            new_week = week_value\n",
    "            \n",
    "    return new_week"
   ]
  },
  {
   "cell_type": "code",
   "execution_count": 112,
   "metadata": {},
   "outputs": [],
   "source": [
    "out_df[\"ModifiedWeek\"] = out_df.apply(lambda row : get_modified_week_col(row[\"Season\"], row[\"Week\"]), axis=1)"
   ]
  },
  {
   "cell_type": "code",
   "execution_count": 113,
   "metadata": {},
   "outputs": [
    {
     "name": "stdout",
     "output_type": "stream",
     "text": [
      "Number of ties in NFL History: 316 (1.865%)\n"
     ]
    }
   ],
   "source": [
    "nfl_tie_count = len(out_df[out_df['TieGame'] == 1])\n",
    "nfl_tie_percentage = nfl_tie_count / len(out_df) * 100\n",
    "print(f\"Number of ties in NFL History: {nfl_tie_count} ({nfl_tie_percentage:.3f}%)\")"
   ]
  },
  {
   "cell_type": "markdown",
   "metadata": {},
   "source": [
    "## Output the Processed File to CSV"
   ]
  },
  {
   "cell_type": "code",
   "execution_count": 114,
   "metadata": {},
   "outputs": [],
   "source": [
    "out_df.to_csv(\"Data/processed_game_history.csv\")"
   ]
  }
 ],
 "metadata": {
  "interpreter": {
   "hash": "fa2fc807709a523810021f9069b038b4545f832460b51722369767b190f008cb"
  },
  "kernelspec": {
   "display_name": "Python 3.7.1 64-bit ('base': conda)",
   "name": "python3"
  },
  "language_info": {
   "codemirror_mode": {
    "name": "ipython",
    "version": 3
   },
   "file_extension": ".py",
   "mimetype": "text/x-python",
   "name": "python",
   "nbconvert_exporter": "python",
   "pygments_lexer": "ipython3",
   "version": "3.7.1"
  },
  "orig_nbformat": 4
 },
 "nbformat": 4,
 "nbformat_minor": 2
}
