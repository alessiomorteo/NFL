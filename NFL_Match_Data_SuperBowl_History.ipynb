{
 "cells": [
  {
   "cell_type": "markdown",
   "metadata": {},
   "source": [
    "# NFL Match Data - Super Bowl History"
   ]
  },
  {
   "cell_type": "code",
   "execution_count": 12,
   "metadata": {},
   "outputs": [],
   "source": [
    "import pandas as pd"
   ]
  },
  {
   "cell_type": "code",
   "execution_count": 13,
   "metadata": {},
   "outputs": [],
   "source": [
    "df = pd.read_csv(\"Data/processed_game_history.csv\", parse_dates=[\"Date\"])"
   ]
  },
  {
   "cell_type": "code",
   "execution_count": 14,
   "metadata": {},
   "outputs": [],
   "source": [
    "sb_games = df[df[\"Week\"] == \"Super Bowl\"]\n",
    "sb_games = sb_games.drop(\"Week\", axis=1)"
   ]
  },
  {
   "cell_type": "code",
   "execution_count": 15,
   "metadata": {},
   "outputs": [
    {
     "name": "stdout",
     "output_type": "stream",
     "text": [
      "Number of Super Bowl games that have been played: 55\n",
      "Number of Super Bowls played in January: 36\n",
      "Number of Super Bowls played in February: 19\n",
      "Number of Super Bowls played in March: 0\n"
     ]
    }
   ],
   "source": [
    "print(f\"Number of Super Bowl games that have been played: {sb_games.shape[0]}\")\n",
    "print(f\"Number of Super Bowls played in January: {len(sb_games[sb_games['Date'].dt.month == 1])}\")\n",
    "print(f\"Number of Super Bowls played in February: {len(sb_games[sb_games['Date'].dt.month == 2])}\")\n",
    "print(f\"Number of Super Bowls played in March: {len(sb_games[sb_games['Date'].dt.month == 3])}\")"
   ]
  },
  {
   "cell_type": "code",
   "execution_count": 16,
   "metadata": {},
   "outputs": [
    {
     "name": "stdout",
     "output_type": "stream",
     "text": [
      "Largest Super Bowl win margin: 45 pts\n",
      "Smallest Super Bowl win margin: 1 pts\n",
      "Average Super Bowl win margin: 14.05 pts\n"
     ]
    }
   ],
   "source": [
    "print(f\"Largest Super Bowl win margin: {sb_games['PtsMargin'].max()} pts\")\n",
    "print(f\"Smallest Super Bowl win margin: {sb_games['PtsMargin'].min()} pts\")\n",
    "print(f\"Average Super Bowl win margin: {sb_games['PtsMargin'].mean():.2f} pts\")"
   ]
  },
  {
   "cell_type": "code",
   "execution_count": 17,
   "metadata": {},
   "outputs": [
    {
     "data": {
      "text/html": [
       "<div>\n",
       "<style scoped>\n",
       "    .dataframe tbody tr th:only-of-type {\n",
       "        vertical-align: middle;\n",
       "    }\n",
       "\n",
       "    .dataframe tbody tr th {\n",
       "        vertical-align: top;\n",
       "    }\n",
       "\n",
       "    .dataframe thead th {\n",
       "        text-align: right;\n",
       "    }\n",
       "</style>\n",
       "<table border=\"1\" class=\"dataframe\">\n",
       "  <thead>\n",
       "    <tr style=\"text-align: right;\">\n",
       "      <th></th>\n",
       "      <th>Unnamed: 0</th>\n",
       "      <th>Rk</th>\n",
       "      <th>Day</th>\n",
       "      <th>Date</th>\n",
       "      <th>Winner/tie</th>\n",
       "      <th>AtHome</th>\n",
       "      <th>Loser/tie</th>\n",
       "      <th>PtsW</th>\n",
       "      <th>PtsL</th>\n",
       "      <th>YdsW</th>\n",
       "      <th>TOW</th>\n",
       "      <th>YdsL</th>\n",
       "      <th>TOL</th>\n",
       "      <th>HomeTeam</th>\n",
       "      <th>Season</th>\n",
       "      <th>PtsMargin</th>\n",
       "      <th>TieGame</th>\n",
       "      <th>ModifiedWeek</th>\n",
       "    </tr>\n",
       "  </thead>\n",
       "  <tbody>\n",
       "    <tr>\n",
       "      <td>183</td>\n",
       "      <td>183</td>\n",
       "      <td>184</td>\n",
       "      <td>Sun</td>\n",
       "      <td>2002-02-03</td>\n",
       "      <td>New England Patriots</td>\n",
       "      <td>N</td>\n",
       "      <td>St. Louis Rams</td>\n",
       "      <td>20</td>\n",
       "      <td>17</td>\n",
       "      <td>267.0</td>\n",
       "      <td>0.0</td>\n",
       "      <td>427.0</td>\n",
       "      <td>3.0</td>\n",
       "      <td>New England Patriots</td>\n",
       "      <td>2001</td>\n",
       "      <td>3</td>\n",
       "      <td>0</td>\n",
       "      <td>21</td>\n",
       "    </tr>\n",
       "    <tr>\n",
       "      <td>670</td>\n",
       "      <td>670</td>\n",
       "      <td>177</td>\n",
       "      <td>Sun</td>\n",
       "      <td>2008-02-03</td>\n",
       "      <td>New York Giants</td>\n",
       "      <td>N</td>\n",
       "      <td>New England Patriots</td>\n",
       "      <td>17</td>\n",
       "      <td>14</td>\n",
       "      <td>338.0</td>\n",
       "      <td>1.0</td>\n",
       "      <td>274.0</td>\n",
       "      <td>1.0</td>\n",
       "      <td>New York Giants</td>\n",
       "      <td>2007</td>\n",
       "      <td>3</td>\n",
       "      <td>0</td>\n",
       "      <td>21</td>\n",
       "    </tr>\n",
       "    <tr>\n",
       "      <td>1327</td>\n",
       "      <td>1327</td>\n",
       "      <td>112</td>\n",
       "      <td>Sun</td>\n",
       "      <td>2005-02-06</td>\n",
       "      <td>New England Patriots</td>\n",
       "      <td>N</td>\n",
       "      <td>Philadelphia Eagles</td>\n",
       "      <td>24</td>\n",
       "      <td>21</td>\n",
       "      <td>331.0</td>\n",
       "      <td>1.0</td>\n",
       "      <td>369.0</td>\n",
       "      <td>4.0</td>\n",
       "      <td>New England Patriots</td>\n",
       "      <td>2004</td>\n",
       "      <td>3</td>\n",
       "      <td>0</td>\n",
       "      <td>21</td>\n",
       "    </tr>\n",
       "    <tr>\n",
       "      <td>1531</td>\n",
       "      <td>1531</td>\n",
       "      <td>19</td>\n",
       "      <td>Sun</td>\n",
       "      <td>1971-01-17</td>\n",
       "      <td>Baltimore Colts</td>\n",
       "      <td>N</td>\n",
       "      <td>Dallas Cowboys</td>\n",
       "      <td>16</td>\n",
       "      <td>13</td>\n",
       "      <td>329.0</td>\n",
       "      <td>7.0</td>\n",
       "      <td>217.0</td>\n",
       "      <td>4.0</td>\n",
       "      <td>Baltimore Colts</td>\n",
       "      <td>1970</td>\n",
       "      <td>3</td>\n",
       "      <td>0</td>\n",
       "      <td>17</td>\n",
       "    </tr>\n",
       "    <tr>\n",
       "      <td>1904</td>\n",
       "      <td>1904</td>\n",
       "      <td>114</td>\n",
       "      <td>Sun</td>\n",
       "      <td>2016-02-07</td>\n",
       "      <td>Denver Broncos</td>\n",
       "      <td>N</td>\n",
       "      <td>Carolina Panthers</td>\n",
       "      <td>24</td>\n",
       "      <td>10</td>\n",
       "      <td>194.0</td>\n",
       "      <td>2.0</td>\n",
       "      <td>315.0</td>\n",
       "      <td>4.0</td>\n",
       "      <td>Denver Broncos</td>\n",
       "      <td>2015</td>\n",
       "      <td>14</td>\n",
       "      <td>0</td>\n",
       "      <td>21</td>\n",
       "    </tr>\n",
       "  </tbody>\n",
       "</table>\n",
       "</div>"
      ],
      "text/plain": [
       "      Unnamed: 0   Rk  Day       Date            Winner/tie AtHome  \\\n",
       "183          183  184  Sun 2002-02-03  New England Patriots      N   \n",
       "670          670  177  Sun 2008-02-03       New York Giants      N   \n",
       "1327        1327  112  Sun 2005-02-06  New England Patriots      N   \n",
       "1531        1531   19  Sun 1971-01-17       Baltimore Colts      N   \n",
       "1904        1904  114  Sun 2016-02-07        Denver Broncos      N   \n",
       "\n",
       "                 Loser/tie  PtsW  PtsL   YdsW  TOW   YdsL  TOL  \\\n",
       "183         St. Louis Rams    20    17  267.0  0.0  427.0  3.0   \n",
       "670   New England Patriots    17    14  338.0  1.0  274.0  1.0   \n",
       "1327   Philadelphia Eagles    24    21  331.0  1.0  369.0  4.0   \n",
       "1531        Dallas Cowboys    16    13  329.0  7.0  217.0  4.0   \n",
       "1904     Carolina Panthers    24    10  194.0  2.0  315.0  4.0   \n",
       "\n",
       "                  HomeTeam  Season  PtsMargin  TieGame ModifiedWeek  \n",
       "183   New England Patriots    2001          3        0           21  \n",
       "670        New York Giants    2007          3        0           21  \n",
       "1327  New England Patriots    2004          3        0           21  \n",
       "1531       Baltimore Colts    1970          3        0           17  \n",
       "1904        Denver Broncos    2015         14        0           21  "
      ]
     },
     "execution_count": 17,
     "metadata": {},
     "output_type": "execute_result"
    }
   ],
   "source": [
    "sb_games.head()"
   ]
  }
 ],
 "metadata": {
  "interpreter": {
   "hash": "fa2fc807709a523810021f9069b038b4545f832460b51722369767b190f008cb"
  },
  "kernelspec": {
   "display_name": "Python 3.7.1 64-bit ('base': conda)",
   "name": "python3"
  },
  "language_info": {
   "codemirror_mode": {
    "name": "ipython",
    "version": 3
   },
   "file_extension": ".py",
   "mimetype": "text/x-python",
   "name": "python",
   "nbconvert_exporter": "python",
   "pygments_lexer": "ipython3",
   "version": "3.7.1"
  },
  "orig_nbformat": 4
 },
 "nbformat": 4,
 "nbformat_minor": 2
}
